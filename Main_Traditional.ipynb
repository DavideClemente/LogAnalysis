{
 "cells": [
  {
   "cell_type": "code",
   "id": "initial_id",
   "metadata": {
    "collapsed": true,
    "ExecuteTime": {
     "end_time": "2025-04-30T13:12:29.349999Z",
     "start_time": "2025-04-30T13:12:24.778553Z"
    }
   },
   "source": [
    "import os\n",
    "import pandas as pd\n",
    "import re\n",
    "# Supressing the warning messages\n",
    "import warnings\n",
    "from datetime import datetime\n",
    "from dotenv import load_dotenv\n",
    "from tqdm import tqdm\n",
    "\n",
    "warnings.filterwarnings('ignore')\n",
    "\n",
    "load_dotenv()\n",
    "\n",
    "BASE_PATH = os.getenv('BASE_PATH')\n",
    "\n",
    "traces = pd.read_csv(os.path.join(BASE_PATH, 'Raw_logs', 'HDFS_v1', 'preprocessed', 'Event_traces.csv'))\n",
    "labels = pd.read_csv(os.path.join(BASE_PATH, 'Raw_logs', 'HDFS_v1', 'preprocessed', 'anomaly_label.csv'))\n",
    "log_templates = pd.read_csv(os.path.join(BASE_PATH, 'Raw_logs', 'HDFS_v1', 'preprocessed', 'HDFS.log_templates.csv'))\n",
    "log_templates['Regex'] = log_templates['EventTemplate'].apply(\n",
    "    lambda t: re.compile(re.escape(t).replace(r'\\[\\*\\]', '.*')))\n",
    "\n",
    "\n",
    "def map_log_to_event(log_line, templates):\n",
    "    for _, row in templates.iterrows():\n",
    "        if row['Regex'].match(log_line):\n",
    "            return row['EventId']\n",
    "    return None\n",
    "\n",
    "\n",
    "def extract_block_id(log_line):\n",
    "    match = re.search(r'blk_-?\\d+', log_line)\n",
    "    if match:\n",
    "        return match.group(0)\n",
    "    return None\n",
    "\n",
    "\n",
    "log_file_path = os.path.expanduser(os.path.join(BASE_PATH, 'Raw_logs', 'HDFS_v1', 'HDFS.log'))\n",
    "\n",
    "if not os.path.exists(log_file_path):\n",
    "    raise FileNotFoundError(f\"No such file or directory: '{log_file_path}'\")\n",
    "\n",
    "timestamps = []\n",
    "event_ids = []\n",
    "\n",
    "pickle_file = os.path.join(\"variables\", \"data_frame.pkl\")\n",
    "df = None\n",
    "if not os.path.exists(pickle_file):\n",
    "    with open(log_file_path, 'r') as file:\n",
    "        for line in tqdm(file, desc=\"Processing logs\", unit=\"log\"):\n",
    "            timestamp_match = re.match(r'(\\d{6}) (\\d{6}) \\d+', line)\n",
    "            if timestamp_match:\n",
    "                date_str, time_str = timestamp_match.groups()\n",
    "                timestamp = datetime.strptime(date_str + time_str, \"%y%m%d%H%M%S\")\n",
    "            else:\n",
    "                timestamp = None\n",
    "            event_id = map_log_to_event(line, log_templates)\n",
    "            timestamps.append(timestamp)\n",
    "            event_ids.append(event_id)\n",
    "\n",
    "    df = pd.DataFrame(\n",
    "        {\n",
    "            'Timestamp': timestamps,\n",
    "            'EventId': event_ids,\n",
    "        }\n",
    "    )\n",
    "    df.to_pickle(pickle_file)\n",
    "else:\n",
    "    df = pd.read_pickle(pickle_file)"
   ],
   "outputs": [],
   "execution_count": 1
  },
  {
   "metadata": {
    "ExecuteTime": {
     "end_time": "2025-04-30T13:12:35.744028Z",
     "start_time": "2025-04-30T13:12:35.730830Z"
    }
   },
   "cell_type": "code",
   "source": "df.info()",
   "id": "9e96dd379b1247c4",
   "outputs": [
    {
     "name": "stdout",
     "output_type": "stream",
     "text": [
      "<class 'pandas.core.frame.DataFrame'>\n",
      "RangeIndex: 11175629 entries, 0 to 11175628\n",
      "Data columns (total 2 columns):\n",
      " #   Column     Dtype         \n",
      "---  ------     -----         \n",
      " 0   Timestamp  datetime64[ns]\n",
      " 1   EventId    object        \n",
      "dtypes: datetime64[ns](1), object(1)\n",
      "memory usage: 170.5+ MB\n"
     ]
    }
   ],
   "execution_count": 2
  },
  {
   "metadata": {
    "ExecuteTime": {
     "end_time": "2025-04-30T13:13:29.717568Z",
     "start_time": "2025-04-30T13:13:29.697565Z"
    }
   },
   "cell_type": "code",
   "source": "df.head()",
   "id": "f31f76363a8fb201",
   "outputs": [
    {
     "data": {
      "text/plain": [
       "            Timestamp EventId\n",
       "0 2008-11-09 20:35:18      E5\n",
       "1 2008-11-09 20:35:18     E22\n",
       "2 2008-11-09 20:35:19      E5\n",
       "3 2008-11-09 20:35:19      E5\n",
       "4 2008-11-09 20:35:19     E11"
      ],
      "text/html": [
       "<div>\n",
       "<style scoped>\n",
       "    .dataframe tbody tr th:only-of-type {\n",
       "        vertical-align: middle;\n",
       "    }\n",
       "\n",
       "    .dataframe tbody tr th {\n",
       "        vertical-align: top;\n",
       "    }\n",
       "\n",
       "    .dataframe thead th {\n",
       "        text-align: right;\n",
       "    }\n",
       "</style>\n",
       "<table border=\"1\" class=\"dataframe\">\n",
       "  <thead>\n",
       "    <tr style=\"text-align: right;\">\n",
       "      <th></th>\n",
       "      <th>Timestamp</th>\n",
       "      <th>EventId</th>\n",
       "    </tr>\n",
       "  </thead>\n",
       "  <tbody>\n",
       "    <tr>\n",
       "      <th>0</th>\n",
       "      <td>2008-11-09 20:35:18</td>\n",
       "      <td>E5</td>\n",
       "    </tr>\n",
       "    <tr>\n",
       "      <th>1</th>\n",
       "      <td>2008-11-09 20:35:18</td>\n",
       "      <td>E22</td>\n",
       "    </tr>\n",
       "    <tr>\n",
       "      <th>2</th>\n",
       "      <td>2008-11-09 20:35:19</td>\n",
       "      <td>E5</td>\n",
       "    </tr>\n",
       "    <tr>\n",
       "      <th>3</th>\n",
       "      <td>2008-11-09 20:35:19</td>\n",
       "      <td>E5</td>\n",
       "    </tr>\n",
       "    <tr>\n",
       "      <th>4</th>\n",
       "      <td>2008-11-09 20:35:19</td>\n",
       "      <td>E11</td>\n",
       "    </tr>\n",
       "  </tbody>\n",
       "</table>\n",
       "</div>"
      ]
     },
     "execution_count": 4,
     "metadata": {},
     "output_type": "execute_result"
    }
   ],
   "execution_count": 4
  },
  {
   "metadata": {},
   "cell_type": "code",
   "outputs": [],
   "execution_count": null,
   "source": [
    "error_events = ['E4', 'E7', '']\n",
    "\n",
    "df['Label'] = "
   ],
   "id": "662e9f2cca52e0a2"
  }
 ],
 "metadata": {
  "kernelspec": {
   "display_name": "Python 3.9 (tensorflow)",
   "language": "python",
   "name": "tensorflow"
  },
  "language_info": {
   "codemirror_mode": {
    "name": "ipython",
    "version": 2
   },
   "file_extension": ".py",
   "mimetype": "text/x-python",
   "name": "python",
   "nbconvert_exporter": "python",
   "pygments_lexer": "ipython2",
   "version": "2.7.6"
  }
 },
 "nbformat": 4,
 "nbformat_minor": 5
}
